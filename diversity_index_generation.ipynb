{
  "nbformat": 4,
  "nbformat_minor": 0,
  "metadata": {
    "colab": {
      "provenance": [],
      "toc_visible": true,
      "mount_file_id": "1Jm5GY-AeD62l5ab9YTNvnZriiknQwx8d",
      "authorship_tag": "ABX9TyMn9ZdUGlRPbs+G5yRaVDq9",
      "include_colab_link": true
    },
    "kernelspec": {
      "name": "python3",
      "display_name": "Python 3"
    },
    "language_info": {
      "name": "python"
    }
  },
  "cells": [
    {
      "cell_type": "markdown",
      "metadata": {
        "id": "view-in-github",
        "colab_type": "text"
      },
      "source": [
        "<a href=\"https://colab.research.google.com/github/dea1013/DS650-Project/blob/main/diversity_index_generation.ipynb\" target=\"_parent\"><img src=\"https://colab.research.google.com/assets/colab-badge.svg\" alt=\"Open In Colab\"/></a>"
      ]
    },
    {
      "cell_type": "markdown",
      "source": [
        "# Import packages and data"
      ],
      "metadata": {
        "id": "F2DSMc07h210"
      }
    },
    {
      "cell_type": "code",
      "execution_count": 108,
      "metadata": {
        "id": "BWuzxS6R8D53"
      },
      "outputs": [],
      "source": [
        "import pandas as pd\n",
        "import numpy as np\n",
        "import re"
      ]
    },
    {
      "cell_type": "code",
      "source": [
        "in_path = \"/content/drive/MyDrive/Spring 2023/Data Visualization/Project/college_rankings_merged_with_ScoreCard_data.xlsx\"\n",
        "df = pd.read_excel(in_path, sheet_name = \"Sheet1\")"
      ],
      "metadata": {
        "id": "Q31aHMCs8ZMy"
      },
      "execution_count": 109,
      "outputs": []
    },
    {
      "cell_type": "markdown",
      "source": [
        "# Base columns"
      ],
      "metadata": {
        "id": "b2avnu9rh_S7"
      }
    },
    {
      "cell_type": "code",
      "source": [
        "key_cols= ['year','INSTNM']\n",
        "world_cols = ['world_rank_THE','world_rank_RUR','world_rank_CWUR','score_THE','score_RUR','score_CWUR']"
      ],
      "metadata": {
        "id": "YnuD3GGJ87LS"
      },
      "execution_count": 110,
      "outputs": []
    },
    {
      "cell_type": "markdown",
      "source": [
        "# Feature Engineering"
      ],
      "metadata": {
        "id": "7hEZ9_BninWd"
      }
    },
    {
      "cell_type": "markdown",
      "source": [
        "## UGDS Score"
      ],
      "metadata": {
        "id": "wdaMcwns49tK"
      }
    },
    {
      "cell_type": "code",
      "source": [
        "UGDS_cols = [\n",
        "    'UGDS_WHITE',\n",
        "    'UGDS_BLACK',\n",
        "    'UGDS_HISP',\n",
        "    'UGDS_ASIAN',\n",
        "    'UGDS_AIAN',\n",
        "    'UGDS_NHPI',\n",
        "    'UGDS_2MOR',\n",
        "    'UGDS_NRA',\n",
        "    'UGDS_UNKN',\n",
        "]\n",
        "df['UGDS_score'] = df[UGDS_cols].var(axis=1)"
      ],
      "metadata": {
        "id": "S-uw1bPVBMHW"
      },
      "execution_count": 111,
      "outputs": []
    },
    {
      "cell_type": "markdown",
      "source": [
        "## Female Male Score"
      ],
      "metadata": {
        "id": "cV0UDsYh7DK3"
      }
    },
    {
      "cell_type": "code",
      "source": [
        "female_male_cols = ['male_proportion', 'female_proportion']\n",
        "df['male_proportion'] = df['female_male_ratio_THE'].astype(\"string\").str.extract(r'\\d\\d[ ]*:[ ]*(\\d\\d)')\n",
        "df['male_proportion'] = pd.to_numeric(df['male_proportion'])\n",
        "df['female_proportion'] = 100 - df['male_proportion']\n",
        "df['female_male_score'] = df[female_male_cols].var(axis=1)"
      ],
      "metadata": {
        "id": "7Qsa5S8z5jcU"
      },
      "execution_count": 112,
      "outputs": []
    },
    {
      "cell_type": "markdown",
      "source": [
        "## Final Feature Columns"
      ],
      "metadata": {
        "id": "VCbw26w37duC"
      }
    },
    {
      "cell_type": "code",
      "source": [
        "inverse_weight_cols = ['UGDS_score', 'female_male_score']\n",
        "for col in inverse_weight_cols:\n",
        "  df[col] *= -1"
      ],
      "metadata": {
        "id": "e--Ch3hp68sS"
      },
      "execution_count": 113,
      "outputs": []
    },
    {
      "cell_type": "code",
      "source": [
        "feature_cols = [\n",
        "    'international_students_THE',\n",
        "    'UGDS_score',\n",
        "    'female_male_score',\n",
        "]\n",
        "\n",
        "df = df[key_cols+world_cols+feature_cols]\n",
        "df['coltype'] = \"raw\""
      ],
      "metadata": {
        "id": "kkE9LKo9JUYC",
        "colab": {
          "base_uri": "https://localhost:8080/"
        },
        "outputId": "3b783a67-56d4-4736-c804-cb9270b35d77"
      },
      "execution_count": 114,
      "outputs": [
        {
          "output_type": "stream",
          "name": "stderr",
          "text": [
            "<ipython-input-114-2bcb270b47b1>:8: SettingWithCopyWarning: \n",
            "A value is trying to be set on a copy of a slice from a DataFrame.\n",
            "Try using .loc[row_indexer,col_indexer] = value instead\n",
            "\n",
            "See the caveats in the documentation: https://pandas.pydata.org/pandas-docs/stable/user_guide/indexing.html#returning-a-view-versus-a-copy\n",
            "  df['coltype'] = \"raw\"\n"
          ]
        }
      ]
    },
    {
      "cell_type": "code",
      "source": [],
      "metadata": {
        "id": "lIiU3t9ZAyfz"
      },
      "execution_count": 114,
      "outputs": []
    },
    {
      "cell_type": "markdown",
      "source": [
        "# Create min-max scaled columns"
      ],
      "metadata": {
        "id": "liGtSHSbiFY8"
      }
    },
    {
      "cell_type": "code",
      "source": [
        "df_copy = df.copy()\n",
        "df_copy[feature_cols] = (df_copy[feature_cols] - df_copy[feature_cols].min())/(df_copy[feature_cols].max() - df_copy[feature_cols].min())\n"
      ],
      "metadata": {
        "id": "iXm00YTKCOct"
      },
      "execution_count": 115,
      "outputs": []
    },
    {
      "cell_type": "code",
      "source": [
        "df_copy['coltype'] = 'scaled'\n",
        "df = pd.concat([df,df_copy]).reset_index(drop=True)"
      ],
      "metadata": {
        "id": "tSbJbo1TkDkE"
      },
      "execution_count": 116,
      "outputs": []
    },
    {
      "cell_type": "markdown",
      "source": [
        "# Create weight columns"
      ],
      "metadata": {
        "id": "8fuHFvByklrB"
      }
    },
    {
      "cell_type": "code",
      "source": [
        "df_copy = df[df['coltype'] == 'scaled'].copy()\n",
        "df_copy[feature_cols] = df_copy[feature_cols].var()/df_copy[feature_cols].var().sum()\n",
        "# df[weight_cols] = 1/len(weight_cols)"
      ],
      "metadata": {
        "id": "7ZtaSIx0EGIP"
      },
      "execution_count": 117,
      "outputs": []
    },
    {
      "cell_type": "code",
      "source": [
        "df_copy['coltype'] = 'weight'\n",
        "df = pd.concat([df,df_copy]).reset_index(drop=True)"
      ],
      "metadata": {
        "id": "kCCGZJ5kk4vG"
      },
      "execution_count": 118,
      "outputs": []
    },
    {
      "cell_type": "markdown",
      "source": [
        "# Create score columns"
      ],
      "metadata": {
        "id": "oTKNAjEulIZX"
      }
    },
    {
      "cell_type": "code",
      "source": [
        "df_copy = df[df['coltype'] == 'raw'].copy()\n",
        "for col in feature_cols:\n",
        "  df_copy[col] = df[df['coltype'] == 'scaled'][col].reset_index(drop=True) * \\\n",
        "  df[df['coltype'] == 'weight'][col].reset_index(drop=True)"
      ],
      "metadata": {
        "id": "6aNHJasEfzQj"
      },
      "execution_count": 119,
      "outputs": []
    },
    {
      "cell_type": "code",
      "source": [
        "df_copy['coltype'] = 'score'\n",
        "df = pd.concat([df,df_copy]).reset_index(drop=True)"
      ],
      "metadata": {
        "id": "cLlLBNjImxfO"
      },
      "execution_count": 120,
      "outputs": []
    },
    {
      "cell_type": "markdown",
      "source": [
        "# Create diversity columns"
      ],
      "metadata": {
        "id": "PSyQyO0XlPs1"
      }
    },
    {
      "cell_type": "code",
      "source": [
        "df_copy = df[df['coltype'] == 'score'][key_cols+feature_cols].copy()\n",
        "df_copy['diversity_index'] = df_copy[feature_cols].sum(axis=1)\n",
        "df_copy['diversity_index'] = (df_copy['diversity_index'] - df_copy['diversity_index'].min())/\\\n",
        "(df_copy['diversity_index'].max() - df_copy['diversity_index'].min())\n",
        "df_copy['diversity_rank'] = df_copy['diversity_index'].rank(ascending=False)\n",
        "df_copy['diversity_year_rank'] = df_copy.groupby('year')['diversity_index'].rank(ascending=False)"
      ],
      "metadata": {
        "id": "NR6bMib2pF5N"
      },
      "execution_count": 121,
      "outputs": []
    },
    {
      "cell_type": "code",
      "source": [
        "df_copy = df_copy[key_cols+['diversity_index','diversity_rank','diversity_year_rank']]\n",
        "df = df.merge(df_copy,on=['year','INSTNM'])"
      ],
      "metadata": {
        "id": "xwAgvoB2p2jO"
      },
      "execution_count": 122,
      "outputs": []
    },
    {
      "cell_type": "code",
      "source": [
        "df['diversity_index'] = df.mask(df['coltype'] != 'score')['diversity_index']"
      ],
      "metadata": {
        "id": "4Q0h0S6ClQlG"
      },
      "execution_count": 123,
      "outputs": []
    },
    {
      "cell_type": "code",
      "source": [
        "df = df.sort_values(by=['year','diversity_year_rank'])"
      ],
      "metadata": {
        "id": "CwzZGiQs2Ims"
      },
      "execution_count": 124,
      "outputs": []
    },
    {
      "cell_type": "code",
      "source": [
        "df"
      ],
      "metadata": {
        "colab": {
          "base_uri": "https://localhost:8080/",
          "height": 783
        },
        "id": "1iwnxmeA-JTO",
        "outputId": "87e196da-a327-427c-d24c-803a6a3848f2"
      },
      "execution_count": 125,
      "outputs": [
        {
          "output_type": "execute_result",
          "data": {
            "text/plain": [
              "      year                                     INSTNM world_rank_THE  \\\n",
              "48    2012                 Carnegie Mellon University             21   \n",
              "49    2012                 Carnegie Mellon University             21   \n",
              "50    2012                 Carnegie Mellon University             21   \n",
              "51    2012                 Carnegie Mellon University             21   \n",
              "8     2012      Massachusetts Institute of Technology              7   \n",
              "...    ...                                        ...            ...   \n",
              "2359  2015  North Dakota State University-Main Campus            NaN   \n",
              "2640  2015                          Howard University            NaN   \n",
              "2641  2015                          Howard University            NaN   \n",
              "2642  2015                          Howard University            NaN   \n",
              "2643  2015                          Howard University            NaN   \n",
              "\n",
              "      world_rank_RUR  world_rank_CWUR score_THE  score_RUR  score_CWUR  \\\n",
              "48              33.0             43.0      78.4     84.669       51.60   \n",
              "49              33.0             43.0      78.4     84.669       51.60   \n",
              "50              33.0             43.0      78.4     84.669       51.60   \n",
              "51              33.0             43.0      78.4     84.669       51.60   \n",
              "8                4.0              2.0      92.3     95.174       91.67   \n",
              "...              ...              ...       ...        ...         ...   \n",
              "2359           481.0            792.0       NaN     46.218       44.25   \n",
              "2640             NaN            719.0       NaN        NaN       44.33   \n",
              "2641             NaN            719.0       NaN        NaN       44.33   \n",
              "2642             NaN            719.0       NaN        NaN       44.33   \n",
              "2643             NaN            719.0       NaN        NaN       44.33   \n",
              "\n",
              "      international_students_THE  UGDS_score  female_male_score coltype  \\\n",
              "48                      0.350000   -0.018775        -242.000000     raw   \n",
              "49                      1.000000    0.916637           0.806400  scaled   \n",
              "50                      0.353979    0.464275           0.181746  weight   \n",
              "51                      0.353979    0.425572           0.146560   score   \n",
              "8                       0.330000   -0.014674        -338.000000     raw   \n",
              "...                          ...         ...                ...     ...   \n",
              "2359                         NaN    0.078137                NaN   score   \n",
              "2640                         NaN   -0.089351                NaN     raw   \n",
              "2641                         NaN    0.069674                NaN  scaled   \n",
              "2642                    0.353979    0.464275           0.181746  weight   \n",
              "2643                         NaN    0.032348                NaN   score   \n",
              "\n",
              "      diversity_index  diversity_rank  diversity_year_rank  \n",
              "48                NaN             4.0                  1.0  \n",
              "49                NaN             4.0                  1.0  \n",
              "50                NaN             4.0                  1.0  \n",
              "51           0.980240             4.0                  1.0  \n",
              "8                 NaN             5.0                  2.0  \n",
              "...               ...             ...                  ...  \n",
              "2359         0.059744           674.0                207.0  \n",
              "2640              NaN           682.0                208.0  \n",
              "2641              NaN           682.0                208.0  \n",
              "2642              NaN           682.0                208.0  \n",
              "2643         0.010040           682.0                208.0  \n",
              "\n",
              "[2732 rows x 15 columns]"
            ],
            "text/html": [
              "\n",
              "  <div id=\"df-076d3f44-8fea-4e08-8eb6-a0597204423c\">\n",
              "    <div class=\"colab-df-container\">\n",
              "      <div>\n",
              "<style scoped>\n",
              "    .dataframe tbody tr th:only-of-type {\n",
              "        vertical-align: middle;\n",
              "    }\n",
              "\n",
              "    .dataframe tbody tr th {\n",
              "        vertical-align: top;\n",
              "    }\n",
              "\n",
              "    .dataframe thead th {\n",
              "        text-align: right;\n",
              "    }\n",
              "</style>\n",
              "<table border=\"1\" class=\"dataframe\">\n",
              "  <thead>\n",
              "    <tr style=\"text-align: right;\">\n",
              "      <th></th>\n",
              "      <th>year</th>\n",
              "      <th>INSTNM</th>\n",
              "      <th>world_rank_THE</th>\n",
              "      <th>world_rank_RUR</th>\n",
              "      <th>world_rank_CWUR</th>\n",
              "      <th>score_THE</th>\n",
              "      <th>score_RUR</th>\n",
              "      <th>score_CWUR</th>\n",
              "      <th>international_students_THE</th>\n",
              "      <th>UGDS_score</th>\n",
              "      <th>female_male_score</th>\n",
              "      <th>coltype</th>\n",
              "      <th>diversity_index</th>\n",
              "      <th>diversity_rank</th>\n",
              "      <th>diversity_year_rank</th>\n",
              "    </tr>\n",
              "  </thead>\n",
              "  <tbody>\n",
              "    <tr>\n",
              "      <th>48</th>\n",
              "      <td>2012</td>\n",
              "      <td>Carnegie Mellon University</td>\n",
              "      <td>21</td>\n",
              "      <td>33.0</td>\n",
              "      <td>43.0</td>\n",
              "      <td>78.4</td>\n",
              "      <td>84.669</td>\n",
              "      <td>51.60</td>\n",
              "      <td>0.350000</td>\n",
              "      <td>-0.018775</td>\n",
              "      <td>-242.000000</td>\n",
              "      <td>raw</td>\n",
              "      <td>NaN</td>\n",
              "      <td>4.0</td>\n",
              "      <td>1.0</td>\n",
              "    </tr>\n",
              "    <tr>\n",
              "      <th>49</th>\n",
              "      <td>2012</td>\n",
              "      <td>Carnegie Mellon University</td>\n",
              "      <td>21</td>\n",
              "      <td>33.0</td>\n",
              "      <td>43.0</td>\n",
              "      <td>78.4</td>\n",
              "      <td>84.669</td>\n",
              "      <td>51.60</td>\n",
              "      <td>1.000000</td>\n",
              "      <td>0.916637</td>\n",
              "      <td>0.806400</td>\n",
              "      <td>scaled</td>\n",
              "      <td>NaN</td>\n",
              "      <td>4.0</td>\n",
              "      <td>1.0</td>\n",
              "    </tr>\n",
              "    <tr>\n",
              "      <th>50</th>\n",
              "      <td>2012</td>\n",
              "      <td>Carnegie Mellon University</td>\n",
              "      <td>21</td>\n",
              "      <td>33.0</td>\n",
              "      <td>43.0</td>\n",
              "      <td>78.4</td>\n",
              "      <td>84.669</td>\n",
              "      <td>51.60</td>\n",
              "      <td>0.353979</td>\n",
              "      <td>0.464275</td>\n",
              "      <td>0.181746</td>\n",
              "      <td>weight</td>\n",
              "      <td>NaN</td>\n",
              "      <td>4.0</td>\n",
              "      <td>1.0</td>\n",
              "    </tr>\n",
              "    <tr>\n",
              "      <th>51</th>\n",
              "      <td>2012</td>\n",
              "      <td>Carnegie Mellon University</td>\n",
              "      <td>21</td>\n",
              "      <td>33.0</td>\n",
              "      <td>43.0</td>\n",
              "      <td>78.4</td>\n",
              "      <td>84.669</td>\n",
              "      <td>51.60</td>\n",
              "      <td>0.353979</td>\n",
              "      <td>0.425572</td>\n",
              "      <td>0.146560</td>\n",
              "      <td>score</td>\n",
              "      <td>0.980240</td>\n",
              "      <td>4.0</td>\n",
              "      <td>1.0</td>\n",
              "    </tr>\n",
              "    <tr>\n",
              "      <th>8</th>\n",
              "      <td>2012</td>\n",
              "      <td>Massachusetts Institute of Technology</td>\n",
              "      <td>7</td>\n",
              "      <td>4.0</td>\n",
              "      <td>2.0</td>\n",
              "      <td>92.3</td>\n",
              "      <td>95.174</td>\n",
              "      <td>91.67</td>\n",
              "      <td>0.330000</td>\n",
              "      <td>-0.014674</td>\n",
              "      <td>-338.000000</td>\n",
              "      <td>raw</td>\n",
              "      <td>NaN</td>\n",
              "      <td>5.0</td>\n",
              "      <td>2.0</td>\n",
              "    </tr>\n",
              "    <tr>\n",
              "      <th>...</th>\n",
              "      <td>...</td>\n",
              "      <td>...</td>\n",
              "      <td>...</td>\n",
              "      <td>...</td>\n",
              "      <td>...</td>\n",
              "      <td>...</td>\n",
              "      <td>...</td>\n",
              "      <td>...</td>\n",
              "      <td>...</td>\n",
              "      <td>...</td>\n",
              "      <td>...</td>\n",
              "      <td>...</td>\n",
              "      <td>...</td>\n",
              "      <td>...</td>\n",
              "      <td>...</td>\n",
              "    </tr>\n",
              "    <tr>\n",
              "      <th>2359</th>\n",
              "      <td>2015</td>\n",
              "      <td>North Dakota State University-Main Campus</td>\n",
              "      <td>NaN</td>\n",
              "      <td>481.0</td>\n",
              "      <td>792.0</td>\n",
              "      <td>NaN</td>\n",
              "      <td>46.218</td>\n",
              "      <td>44.25</td>\n",
              "      <td>NaN</td>\n",
              "      <td>0.078137</td>\n",
              "      <td>NaN</td>\n",
              "      <td>score</td>\n",
              "      <td>0.059744</td>\n",
              "      <td>674.0</td>\n",
              "      <td>207.0</td>\n",
              "    </tr>\n",
              "    <tr>\n",
              "      <th>2640</th>\n",
              "      <td>2015</td>\n",
              "      <td>Howard University</td>\n",
              "      <td>NaN</td>\n",
              "      <td>NaN</td>\n",
              "      <td>719.0</td>\n",
              "      <td>NaN</td>\n",
              "      <td>NaN</td>\n",
              "      <td>44.33</td>\n",
              "      <td>NaN</td>\n",
              "      <td>-0.089351</td>\n",
              "      <td>NaN</td>\n",
              "      <td>raw</td>\n",
              "      <td>NaN</td>\n",
              "      <td>682.0</td>\n",
              "      <td>208.0</td>\n",
              "    </tr>\n",
              "    <tr>\n",
              "      <th>2641</th>\n",
              "      <td>2015</td>\n",
              "      <td>Howard University</td>\n",
              "      <td>NaN</td>\n",
              "      <td>NaN</td>\n",
              "      <td>719.0</td>\n",
              "      <td>NaN</td>\n",
              "      <td>NaN</td>\n",
              "      <td>44.33</td>\n",
              "      <td>NaN</td>\n",
              "      <td>0.069674</td>\n",
              "      <td>NaN</td>\n",
              "      <td>scaled</td>\n",
              "      <td>NaN</td>\n",
              "      <td>682.0</td>\n",
              "      <td>208.0</td>\n",
              "    </tr>\n",
              "    <tr>\n",
              "      <th>2642</th>\n",
              "      <td>2015</td>\n",
              "      <td>Howard University</td>\n",
              "      <td>NaN</td>\n",
              "      <td>NaN</td>\n",
              "      <td>719.0</td>\n",
              "      <td>NaN</td>\n",
              "      <td>NaN</td>\n",
              "      <td>44.33</td>\n",
              "      <td>0.353979</td>\n",
              "      <td>0.464275</td>\n",
              "      <td>0.181746</td>\n",
              "      <td>weight</td>\n",
              "      <td>NaN</td>\n",
              "      <td>682.0</td>\n",
              "      <td>208.0</td>\n",
              "    </tr>\n",
              "    <tr>\n",
              "      <th>2643</th>\n",
              "      <td>2015</td>\n",
              "      <td>Howard University</td>\n",
              "      <td>NaN</td>\n",
              "      <td>NaN</td>\n",
              "      <td>719.0</td>\n",
              "      <td>NaN</td>\n",
              "      <td>NaN</td>\n",
              "      <td>44.33</td>\n",
              "      <td>NaN</td>\n",
              "      <td>0.032348</td>\n",
              "      <td>NaN</td>\n",
              "      <td>score</td>\n",
              "      <td>0.010040</td>\n",
              "      <td>682.0</td>\n",
              "      <td>208.0</td>\n",
              "    </tr>\n",
              "  </tbody>\n",
              "</table>\n",
              "<p>2732 rows × 15 columns</p>\n",
              "</div>\n",
              "      <button class=\"colab-df-convert\" onclick=\"convertToInteractive('df-076d3f44-8fea-4e08-8eb6-a0597204423c')\"\n",
              "              title=\"Convert this dataframe to an interactive table.\"\n",
              "              style=\"display:none;\">\n",
              "        \n",
              "  <svg xmlns=\"http://www.w3.org/2000/svg\" height=\"24px\"viewBox=\"0 0 24 24\"\n",
              "       width=\"24px\">\n",
              "    <path d=\"M0 0h24v24H0V0z\" fill=\"none\"/>\n",
              "    <path d=\"M18.56 5.44l.94 2.06.94-2.06 2.06-.94-2.06-.94-.94-2.06-.94 2.06-2.06.94zm-11 1L8.5 8.5l.94-2.06 2.06-.94-2.06-.94L8.5 2.5l-.94 2.06-2.06.94zm10 10l.94 2.06.94-2.06 2.06-.94-2.06-.94-.94-2.06-.94 2.06-2.06.94z\"/><path d=\"M17.41 7.96l-1.37-1.37c-.4-.4-.92-.59-1.43-.59-.52 0-1.04.2-1.43.59L10.3 9.45l-7.72 7.72c-.78.78-.78 2.05 0 2.83L4 21.41c.39.39.9.59 1.41.59.51 0 1.02-.2 1.41-.59l7.78-7.78 2.81-2.81c.8-.78.8-2.07 0-2.86zM5.41 20L4 18.59l7.72-7.72 1.47 1.35L5.41 20z\"/>\n",
              "  </svg>\n",
              "      </button>\n",
              "      \n",
              "  <style>\n",
              "    .colab-df-container {\n",
              "      display:flex;\n",
              "      flex-wrap:wrap;\n",
              "      gap: 12px;\n",
              "    }\n",
              "\n",
              "    .colab-df-convert {\n",
              "      background-color: #E8F0FE;\n",
              "      border: none;\n",
              "      border-radius: 50%;\n",
              "      cursor: pointer;\n",
              "      display: none;\n",
              "      fill: #1967D2;\n",
              "      height: 32px;\n",
              "      padding: 0 0 0 0;\n",
              "      width: 32px;\n",
              "    }\n",
              "\n",
              "    .colab-df-convert:hover {\n",
              "      background-color: #E2EBFA;\n",
              "      box-shadow: 0px 1px 2px rgba(60, 64, 67, 0.3), 0px 1px 3px 1px rgba(60, 64, 67, 0.15);\n",
              "      fill: #174EA6;\n",
              "    }\n",
              "\n",
              "    [theme=dark] .colab-df-convert {\n",
              "      background-color: #3B4455;\n",
              "      fill: #D2E3FC;\n",
              "    }\n",
              "\n",
              "    [theme=dark] .colab-df-convert:hover {\n",
              "      background-color: #434B5C;\n",
              "      box-shadow: 0px 1px 3px 1px rgba(0, 0, 0, 0.15);\n",
              "      filter: drop-shadow(0px 1px 2px rgba(0, 0, 0, 0.3));\n",
              "      fill: #FFFFFF;\n",
              "    }\n",
              "  </style>\n",
              "\n",
              "      <script>\n",
              "        const buttonEl =\n",
              "          document.querySelector('#df-076d3f44-8fea-4e08-8eb6-a0597204423c button.colab-df-convert');\n",
              "        buttonEl.style.display =\n",
              "          google.colab.kernel.accessAllowed ? 'block' : 'none';\n",
              "\n",
              "        async function convertToInteractive(key) {\n",
              "          const element = document.querySelector('#df-076d3f44-8fea-4e08-8eb6-a0597204423c');\n",
              "          const dataTable =\n",
              "            await google.colab.kernel.invokeFunction('convertToInteractive',\n",
              "                                                     [key], {});\n",
              "          if (!dataTable) return;\n",
              "\n",
              "          const docLinkHtml = 'Like what you see? Visit the ' +\n",
              "            '<a target=\"_blank\" href=https://colab.research.google.com/notebooks/data_table.ipynb>data table notebook</a>'\n",
              "            + ' to learn more about interactive tables.';\n",
              "          element.innerHTML = '';\n",
              "          dataTable['output_type'] = 'display_data';\n",
              "          await google.colab.output.renderOutput(dataTable, element);\n",
              "          const docLink = document.createElement('div');\n",
              "          docLink.innerHTML = docLinkHtml;\n",
              "          element.appendChild(docLink);\n",
              "        }\n",
              "      </script>\n",
              "    </div>\n",
              "  </div>\n",
              "  "
            ]
          },
          "metadata": {},
          "execution_count": 125
        }
      ]
    },
    {
      "cell_type": "markdown",
      "source": [
        "# Export"
      ],
      "metadata": {
        "id": "6zYw2IK9lNoW"
      }
    },
    {
      "cell_type": "code",
      "source": [
        "out_path = '/content/drive/MyDrive/Spring 2023/Data Visualization/Project/diversity_df_v2.csv'\n",
        "df.to_csv(out_path,index=0)"
      ],
      "metadata": {
        "id": "JEqJrMo5_TQu"
      },
      "execution_count": 126,
      "outputs": []
    }
  ]
}