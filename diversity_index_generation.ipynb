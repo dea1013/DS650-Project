{
  "nbformat": 4,
  "nbformat_minor": 0,
  "metadata": {
    "colab": {
      "provenance": [],
      "mount_file_id": "1Jm5GY-AeD62l5ab9YTNvnZriiknQwx8d",
      "authorship_tag": "ABX9TyMzPnSmm39R3TN0giGzL6XN",
      "include_colab_link": true
    },
    "kernelspec": {
      "name": "python3",
      "display_name": "Python 3"
    },
    "language_info": {
      "name": "python"
    }
  },
  "cells": [
    {
      "cell_type": "markdown",
      "metadata": {
        "id": "view-in-github",
        "colab_type": "text"
      },
      "source": [
        "<a href=\"https://colab.research.google.com/github/dea1013/DS650-Project/blob/main/diversity_index_generation.ipynb\" target=\"_parent\"><img src=\"https://colab.research.google.com/assets/colab-badge.svg\" alt=\"Open In Colab\"/></a>"
      ]
    },
    {
      "cell_type": "markdown",
      "source": [
        "# Import packages and data"
      ],
      "metadata": {
        "id": "F2DSMc07h210"
      }
    },
    {
      "cell_type": "code",
      "execution_count": 194,
      "metadata": {
        "id": "BWuzxS6R8D53"
      },
      "outputs": [],
      "source": [
        "import pandas as pd\n",
        "import numpy as np"
      ]
    },
    {
      "cell_type": "code",
      "source": [
        "in_path = \"/content/drive/MyDrive/Spring 2023/Data Visualization/Project/college_rankings_merged_with_ScoreCard_data.xlsx\"\n",
        "df = pd.read_excel(in_path, sheet_name = \"Sheet1\")"
      ],
      "metadata": {
        "id": "Q31aHMCs8ZMy"
      },
      "execution_count": 195,
      "outputs": []
    },
    {
      "cell_type": "markdown",
      "source": [
        "# Base columns"
      ],
      "metadata": {
        "id": "b2avnu9rh_S7"
      }
    },
    {
      "cell_type": "code",
      "source": [
        "key_cols= ['year','INSTNM']\n",
        "world_cols = ['world_rank_THE','world_rank_RUR','world_rank_CWUR','score_THE','score_RUR','score_CWUR']"
      ],
      "metadata": {
        "id": "YnuD3GGJ87LS"
      },
      "execution_count": 196,
      "outputs": []
    },
    {
      "cell_type": "markdown",
      "source": [
        "# Feature Engineering"
      ],
      "metadata": {
        "id": "7hEZ9_BninWd"
      }
    },
    {
      "cell_type": "markdown",
      "source": [
        "## UGDS Race Score"
      ],
      "metadata": {
        "id": "wdaMcwns49tK"
      }
    },
    {
      "cell_type": "code",
      "source": [
        "UGDS_race_cols = [\n",
        "    'UGDS_WHITE',\n",
        "    'UGDS_BLACK',\n",
        "    'UGDS_HISP',\n",
        "    'UGDS_ASIAN',\n",
        "    'UGDS_AIAN',\n",
        "    'UGDS_NHPI',\n",
        "    'UGDS_2MOR',\n",
        "    'UGDS_NRA',\n",
        "    'UGDS_UNKN',\n",
        "]\n",
        "df['UGDS_race_score'] = df[UGDS_race_cols].var(axis=1)\n",
        "UGDS_race_cols.append('UGDS_race_score')"
      ],
      "metadata": {
        "id": "S-uw1bPVBMHW"
      },
      "execution_count": 197,
      "outputs": []
    },
    {
      "cell_type": "markdown",
      "source": [
        "## UGDS Gender Score"
      ],
      "metadata": {
        "id": "CTcHFEFyyC1L"
      }
    },
    {
      "cell_type": "code",
      "source": [
        "UGDS_gender_cols = [\n",
        "    'UGDS_MEN',\n",
        "    'UGDS_WOMEN',\n",
        "]\n",
        "df['UGDS_gender_score'] = df[UGDS_gender_cols].var(axis=1)\n",
        "UGDS_race_cols.append('UGDS_gender_score')"
      ],
      "metadata": {
        "id": "uiJIX4mAyHwI"
      },
      "execution_count": 198,
      "outputs": []
    },
    {
      "cell_type": "markdown",
      "source": [
        "## First Gen Score"
      ],
      "metadata": {
        "id": "Bw8UuvLe9ER9"
      }
    },
    {
      "cell_type": "code",
      "source": [
        "first_gen_cols = [\n",
        "    'PAR_ED_PCT_1STGEN',\n",
        "    'PAR_ED_PCT_NOT_1STGEN',\n",
        "]\n",
        "df['PAR_ED_PCT_NOT_1STGEN'] = 1 - df['PAR_ED_PCT_1STGEN']\n",
        "df['first_gen_score'] = df[first_gen_cols].var(axis=1)\n",
        "first_gen_cols.append('first_gen_score')"
      ],
      "metadata": {
        "id": "oJBKFw0087mB"
      },
      "execution_count": 199,
      "outputs": []
    },
    {
      "cell_type": "markdown",
      "source": [
        "## Income Score"
      ],
      "metadata": {
        "id": "uFvnKUah5PZ4"
      }
    },
    {
      "cell_type": "code",
      "source": [
        "income_cols = [\n",
        "    'INC_PCT_LO',\n",
        "    'INC_PCT_M1',\n",
        "    'INC_PCT_M2',\n",
        "    'INC_PCT_H1',\n",
        "    'INC_PCT_H2'\n",
        "]\n",
        "df['income_score'] = df[income_cols].var(axis=1)\n",
        "income_cols.append('income_score')"
      ],
      "metadata": {
        "id": "dacn_sii5RQG"
      },
      "execution_count": 200,
      "outputs": []
    },
    {
      "cell_type": "markdown",
      "source": [
        "## Female Male Score (Unused)"
      ],
      "metadata": {
        "id": "cV0UDsYh7DK3"
      }
    },
    {
      "cell_type": "code",
      "source": [
        "# female_male_cols = ['male_proportion', 'female_proportion']\n",
        "# df['male_proportion'] = df['female_male_ratio_THE'].astype(\"string\").str.extract(r'\\d\\d[ ]*:[ ]*(\\d\\d)')\n",
        "# df['male_proportion'] = pd.to_numeric(df['male_proportion'])\n",
        "# df['female_proportion'] = 100 - df['male_proportion']\n",
        "# df['female_male_score'] = df[female_male_cols].var(axis=1)"
      ],
      "metadata": {
        "id": "7Qsa5S8z5jcU"
      },
      "execution_count": 201,
      "outputs": []
    },
    {
      "cell_type": "markdown",
      "source": [
        "## Final Feature Columns"
      ],
      "metadata": {
        "id": "VCbw26w37duC"
      }
    },
    {
      "cell_type": "code",
      "source": [
        "inverse_weight_cols = ['UGDS_race_score',\n",
        "                       'UGDS_gender_score',\n",
        "                       'first_gen_score',\n",
        "                       'income_score']\n",
        "for col in inverse_weight_cols:\n",
        "  df[col] *= -1"
      ],
      "metadata": {
        "id": "e--Ch3hp68sS"
      },
      "execution_count": 202,
      "outputs": []
    },
    {
      "cell_type": "code",
      "source": [
        "feature_cols = [\n",
        "    'UGDS_race_score',\n",
        "    'UGDS_gender_score',\n",
        "    \n",
        "    'first_gen_score',\n",
        "    'income_score'\n",
        "]\n",
        "\n",
        "df = df[\n",
        "    key_cols+\n",
        "    world_cols+\n",
        "    UGDS_race_cols+\n",
        "    UGDS_gender_cols+\n",
        "    first_gen_cols+\n",
        "    income_cols\n",
        "]\n",
        "df['coltype'] = \"raw\""
      ],
      "metadata": {
        "id": "kkE9LKo9JUYC"
      },
      "execution_count": 203,
      "outputs": []
    },
    {
      "cell_type": "markdown",
      "source": [
        "# Create min-max scaled columns"
      ],
      "metadata": {
        "id": "liGtSHSbiFY8"
      }
    },
    {
      "cell_type": "code",
      "source": [
        "df_copy = df.copy()\n",
        "df_copy[feature_cols] = (df_copy[feature_cols] - df_copy[feature_cols].min())/(df_copy[feature_cols].max() - df_copy[feature_cols].min())\n"
      ],
      "metadata": {
        "id": "iXm00YTKCOct"
      },
      "execution_count": 204,
      "outputs": []
    },
    {
      "cell_type": "code",
      "source": [
        "df_copy['coltype'] = 'scaled'\n",
        "df = pd.concat([df,df_copy]).reset_index(drop=True)"
      ],
      "metadata": {
        "id": "tSbJbo1TkDkE"
      },
      "execution_count": 205,
      "outputs": []
    },
    {
      "cell_type": "markdown",
      "source": [
        "# Create weight columns"
      ],
      "metadata": {
        "id": "8fuHFvByklrB"
      }
    },
    {
      "cell_type": "code",
      "source": [
        "df_copy = df[df['coltype'] == 'scaled'].copy()\n",
        "df_copy[feature_cols] = df_copy[feature_cols].var()/df_copy[feature_cols].var().sum()\n",
        "# df[weight_cols] = 1/len(weight_cols)"
      ],
      "metadata": {
        "id": "7ZtaSIx0EGIP"
      },
      "execution_count": 206,
      "outputs": []
    },
    {
      "cell_type": "code",
      "source": [
        "df_copy['coltype'] = 'weight'\n",
        "df = pd.concat([df,df_copy]).reset_index(drop=True)"
      ],
      "metadata": {
        "id": "kCCGZJ5kk4vG"
      },
      "execution_count": 207,
      "outputs": []
    },
    {
      "cell_type": "markdown",
      "source": [
        "# Create score columns"
      ],
      "metadata": {
        "id": "oTKNAjEulIZX"
      }
    },
    {
      "cell_type": "code",
      "source": [
        "df_copy = df[df['coltype'] == 'raw'].copy()\n",
        "for col in feature_cols:\n",
        "  df_copy[col] = df[df['coltype'] == 'scaled'][col].reset_index(drop=True) * \\\n",
        "  df[df['coltype'] == 'weight'][col].reset_index(drop=True)"
      ],
      "metadata": {
        "id": "6aNHJasEfzQj"
      },
      "execution_count": 208,
      "outputs": []
    },
    {
      "cell_type": "code",
      "source": [
        "df_copy['coltype'] = 'score'\n",
        "df = pd.concat([df,df_copy]).reset_index(drop=True)"
      ],
      "metadata": {
        "id": "cLlLBNjImxfO"
      },
      "execution_count": 209,
      "outputs": []
    },
    {
      "cell_type": "markdown",
      "source": [
        "# Create diversity columns"
      ],
      "metadata": {
        "id": "PSyQyO0XlPs1"
      }
    },
    {
      "cell_type": "code",
      "source": [
        "df_copy = df[df['coltype'] == 'score'][key_cols+feature_cols].copy()\n",
        "df_copy['diversity_index'] = df_copy[feature_cols].sum(axis=1)\n",
        "df_copy['diversity_index'] = (df_copy['diversity_index'] - df_copy['diversity_index'].min())/\\\n",
        "(df_copy['diversity_index'].max() - df_copy['diversity_index'].min())\n",
        "df_copy['diversity_rank'] = df_copy['diversity_index'].rank(ascending=False)\n",
        "df_copy['diversity_year_rank'] = df_copy.groupby('year')['diversity_index'].rank(ascending=False)"
      ],
      "metadata": {
        "id": "NR6bMib2pF5N"
      },
      "execution_count": 210,
      "outputs": []
    },
    {
      "cell_type": "code",
      "source": [
        "df_copy = df_copy[key_cols+['diversity_index','diversity_rank','diversity_year_rank']]\n",
        "df = df.merge(df_copy,on=['year','INSTNM'])"
      ],
      "metadata": {
        "id": "xwAgvoB2p2jO"
      },
      "execution_count": 211,
      "outputs": []
    },
    {
      "cell_type": "code",
      "source": [
        "df['diversity_index'] = df.mask(df['coltype'] != 'score')['diversity_index']"
      ],
      "metadata": {
        "id": "4Q0h0S6ClQlG"
      },
      "execution_count": 212,
      "outputs": []
    },
    {
      "cell_type": "code",
      "source": [
        "df = df.sort_values(by=['year','diversity_year_rank'])"
      ],
      "metadata": {
        "id": "CwzZGiQs2Ims"
      },
      "execution_count": 213,
      "outputs": []
    },
    {
      "cell_type": "code",
      "source": [
        "df"
      ],
      "metadata": {
        "colab": {
          "base_uri": "https://localhost:8080/",
          "height": 974
        },
        "id": "1iwnxmeA-JTO",
        "outputId": "0f26b61b-14a7-480e-e2f9-91a9469f2401"
      },
      "execution_count": 214,
      "outputs": [
        {
          "output_type": "execute_result",
          "data": {
            "text/plain": [
              "      year                                  INSTNM world_rank_THE  \\\n",
              "512   2012  California State University-Long Beach            NaN   \n",
              "513   2012  California State University-Long Beach            NaN   \n",
              "514   2012  California State University-Long Beach            NaN   \n",
              "515   2012  California State University-Long Beach            NaN   \n",
              "232   2012      University of California-Riverside            143   \n",
              "...    ...                                     ...            ...   \n",
              "2159  2015                      Yeshiva University            186   \n",
              "2504  2015                Brigham Young University            NaN   \n",
              "2505  2015                Brigham Young University            NaN   \n",
              "2506  2015                Brigham Young University            NaN   \n",
              "2507  2015                Brigham Young University            NaN   \n",
              "\n",
              "      world_rank_RUR  world_rank_CWUR score_THE  score_RUR  score_CWUR  \\\n",
              "512            630.0              NaN       NaN     12.196         NaN   \n",
              "513            630.0              NaN       NaN     12.196         NaN   \n",
              "514            630.0              NaN       NaN     12.196         NaN   \n",
              "515            630.0              NaN       NaN     12.196         NaN   \n",
              "232            234.0              NaN      47.5     62.353         NaN   \n",
              "...              ...              ...       ...        ...         ...   \n",
              "2159            81.0            171.0      46.7     80.001       48.11   \n",
              "2504             NaN            403.0       NaN        NaN       45.15   \n",
              "2505             NaN            403.0       NaN        NaN       45.15   \n",
              "2506             NaN            403.0       NaN        NaN       45.15   \n",
              "2507             NaN            403.0       NaN        NaN       45.15   \n",
              "\n",
              "      UGDS_WHITE  UGDS_BLACK  ...  INC_PCT_LO  INC_PCT_M1  INC_PCT_M2  \\\n",
              "512       0.2527      0.0406  ...    0.478711    0.149444    0.142386   \n",
              "513       0.2527      0.0406  ...    0.478711    0.149444    0.142386   \n",
              "514       0.2527      0.0406  ...    0.478711    0.149444    0.142386   \n",
              "515       0.2527      0.0406  ...    0.478711    0.149444    0.142386   \n",
              "232       0.1571      0.0646  ...    0.402910    0.181626    0.182096   \n",
              "...          ...         ...  ...         ...         ...         ...   \n",
              "2159      0.9364      0.0207  ...    0.286676    0.110363    0.123822   \n",
              "2504      0.8320      0.0050  ...    0.619696    0.075460    0.093375   \n",
              "2505      0.8320      0.0050  ...    0.619696    0.075460    0.093375   \n",
              "2506      0.8320      0.0050  ...    0.619696    0.075460    0.093375   \n",
              "2507      0.8320      0.0050  ...    0.619696    0.075460    0.093375   \n",
              "\n",
              "      INC_PCT_H1  INC_PCT_H2  income_score  coltype  diversity_index  \\\n",
              "512     0.107710    0.121749     -0.024549      raw              NaN   \n",
              "513     0.107710    0.121749      0.687393   scaled              NaN   \n",
              "514     0.107710    0.121749      0.149704   weight              NaN   \n",
              "515     0.107710    0.121749      0.102906    score         0.994246   \n",
              "232     0.113340    0.120028     -0.013934      raw              NaN   \n",
              "...          ...         ...           ...      ...              ...   \n",
              "2159    0.145357    0.333782      0.131875    score         0.001836   \n",
              "2504    0.096777    0.114692     -0.055239      raw              NaN   \n",
              "2505    0.096777    0.114692      0.262896   scaled              NaN   \n",
              "2506    0.096777    0.114692      0.149704   weight              NaN   \n",
              "2507    0.096777    0.114692      0.039357    score         0.000000   \n",
              "\n",
              "      diversity_rank  diversity_year_rank  \n",
              "512              8.0                  1.0  \n",
              "513              8.0                  1.0  \n",
              "514              8.0                  1.0  \n",
              "515              8.0                  1.0  \n",
              "232              9.0                  2.0  \n",
              "...              ...                  ...  \n",
              "2159           682.0                207.0  \n",
              "2504           683.0                208.0  \n",
              "2505           683.0                208.0  \n",
              "2506           683.0                208.0  \n",
              "2507           683.0                208.0  \n",
              "\n",
              "[2732 rows x 34 columns]"
            ],
            "text/html": [
              "\n",
              "  <div id=\"df-7fad8679-55db-4788-b850-ff66be4c623a\">\n",
              "    <div class=\"colab-df-container\">\n",
              "      <div>\n",
              "<style scoped>\n",
              "    .dataframe tbody tr th:only-of-type {\n",
              "        vertical-align: middle;\n",
              "    }\n",
              "\n",
              "    .dataframe tbody tr th {\n",
              "        vertical-align: top;\n",
              "    }\n",
              "\n",
              "    .dataframe thead th {\n",
              "        text-align: right;\n",
              "    }\n",
              "</style>\n",
              "<table border=\"1\" class=\"dataframe\">\n",
              "  <thead>\n",
              "    <tr style=\"text-align: right;\">\n",
              "      <th></th>\n",
              "      <th>year</th>\n",
              "      <th>INSTNM</th>\n",
              "      <th>world_rank_THE</th>\n",
              "      <th>world_rank_RUR</th>\n",
              "      <th>world_rank_CWUR</th>\n",
              "      <th>score_THE</th>\n",
              "      <th>score_RUR</th>\n",
              "      <th>score_CWUR</th>\n",
              "      <th>UGDS_WHITE</th>\n",
              "      <th>UGDS_BLACK</th>\n",
              "      <th>...</th>\n",
              "      <th>INC_PCT_LO</th>\n",
              "      <th>INC_PCT_M1</th>\n",
              "      <th>INC_PCT_M2</th>\n",
              "      <th>INC_PCT_H1</th>\n",
              "      <th>INC_PCT_H2</th>\n",
              "      <th>income_score</th>\n",
              "      <th>coltype</th>\n",
              "      <th>diversity_index</th>\n",
              "      <th>diversity_rank</th>\n",
              "      <th>diversity_year_rank</th>\n",
              "    </tr>\n",
              "  </thead>\n",
              "  <tbody>\n",
              "    <tr>\n",
              "      <th>512</th>\n",
              "      <td>2012</td>\n",
              "      <td>California State University-Long Beach</td>\n",
              "      <td>NaN</td>\n",
              "      <td>630.0</td>\n",
              "      <td>NaN</td>\n",
              "      <td>NaN</td>\n",
              "      <td>12.196</td>\n",
              "      <td>NaN</td>\n",
              "      <td>0.2527</td>\n",
              "      <td>0.0406</td>\n",
              "      <td>...</td>\n",
              "      <td>0.478711</td>\n",
              "      <td>0.149444</td>\n",
              "      <td>0.142386</td>\n",
              "      <td>0.107710</td>\n",
              "      <td>0.121749</td>\n",
              "      <td>-0.024549</td>\n",
              "      <td>raw</td>\n",
              "      <td>NaN</td>\n",
              "      <td>8.0</td>\n",
              "      <td>1.0</td>\n",
              "    </tr>\n",
              "    <tr>\n",
              "      <th>513</th>\n",
              "      <td>2012</td>\n",
              "      <td>California State University-Long Beach</td>\n",
              "      <td>NaN</td>\n",
              "      <td>630.0</td>\n",
              "      <td>NaN</td>\n",
              "      <td>NaN</td>\n",
              "      <td>12.196</td>\n",
              "      <td>NaN</td>\n",
              "      <td>0.2527</td>\n",
              "      <td>0.0406</td>\n",
              "      <td>...</td>\n",
              "      <td>0.478711</td>\n",
              "      <td>0.149444</td>\n",
              "      <td>0.142386</td>\n",
              "      <td>0.107710</td>\n",
              "      <td>0.121749</td>\n",
              "      <td>0.687393</td>\n",
              "      <td>scaled</td>\n",
              "      <td>NaN</td>\n",
              "      <td>8.0</td>\n",
              "      <td>1.0</td>\n",
              "    </tr>\n",
              "    <tr>\n",
              "      <th>514</th>\n",
              "      <td>2012</td>\n",
              "      <td>California State University-Long Beach</td>\n",
              "      <td>NaN</td>\n",
              "      <td>630.0</td>\n",
              "      <td>NaN</td>\n",
              "      <td>NaN</td>\n",
              "      <td>12.196</td>\n",
              "      <td>NaN</td>\n",
              "      <td>0.2527</td>\n",
              "      <td>0.0406</td>\n",
              "      <td>...</td>\n",
              "      <td>0.478711</td>\n",
              "      <td>0.149444</td>\n",
              "      <td>0.142386</td>\n",
              "      <td>0.107710</td>\n",
              "      <td>0.121749</td>\n",
              "      <td>0.149704</td>\n",
              "      <td>weight</td>\n",
              "      <td>NaN</td>\n",
              "      <td>8.0</td>\n",
              "      <td>1.0</td>\n",
              "    </tr>\n",
              "    <tr>\n",
              "      <th>515</th>\n",
              "      <td>2012</td>\n",
              "      <td>California State University-Long Beach</td>\n",
              "      <td>NaN</td>\n",
              "      <td>630.0</td>\n",
              "      <td>NaN</td>\n",
              "      <td>NaN</td>\n",
              "      <td>12.196</td>\n",
              "      <td>NaN</td>\n",
              "      <td>0.2527</td>\n",
              "      <td>0.0406</td>\n",
              "      <td>...</td>\n",
              "      <td>0.478711</td>\n",
              "      <td>0.149444</td>\n",
              "      <td>0.142386</td>\n",
              "      <td>0.107710</td>\n",
              "      <td>0.121749</td>\n",
              "      <td>0.102906</td>\n",
              "      <td>score</td>\n",
              "      <td>0.994246</td>\n",
              "      <td>8.0</td>\n",
              "      <td>1.0</td>\n",
              "    </tr>\n",
              "    <tr>\n",
              "      <th>232</th>\n",
              "      <td>2012</td>\n",
              "      <td>University of California-Riverside</td>\n",
              "      <td>143</td>\n",
              "      <td>234.0</td>\n",
              "      <td>NaN</td>\n",
              "      <td>47.5</td>\n",
              "      <td>62.353</td>\n",
              "      <td>NaN</td>\n",
              "      <td>0.1571</td>\n",
              "      <td>0.0646</td>\n",
              "      <td>...</td>\n",
              "      <td>0.402910</td>\n",
              "      <td>0.181626</td>\n",
              "      <td>0.182096</td>\n",
              "      <td>0.113340</td>\n",
              "      <td>0.120028</td>\n",
              "      <td>-0.013934</td>\n",
              "      <td>raw</td>\n",
              "      <td>NaN</td>\n",
              "      <td>9.0</td>\n",
              "      <td>2.0</td>\n",
              "    </tr>\n",
              "    <tr>\n",
              "      <th>...</th>\n",
              "      <td>...</td>\n",
              "      <td>...</td>\n",
              "      <td>...</td>\n",
              "      <td>...</td>\n",
              "      <td>...</td>\n",
              "      <td>...</td>\n",
              "      <td>...</td>\n",
              "      <td>...</td>\n",
              "      <td>...</td>\n",
              "      <td>...</td>\n",
              "      <td>...</td>\n",
              "      <td>...</td>\n",
              "      <td>...</td>\n",
              "      <td>...</td>\n",
              "      <td>...</td>\n",
              "      <td>...</td>\n",
              "      <td>...</td>\n",
              "      <td>...</td>\n",
              "      <td>...</td>\n",
              "      <td>...</td>\n",
              "      <td>...</td>\n",
              "    </tr>\n",
              "    <tr>\n",
              "      <th>2159</th>\n",
              "      <td>2015</td>\n",
              "      <td>Yeshiva University</td>\n",
              "      <td>186</td>\n",
              "      <td>81.0</td>\n",
              "      <td>171.0</td>\n",
              "      <td>46.7</td>\n",
              "      <td>80.001</td>\n",
              "      <td>48.11</td>\n",
              "      <td>0.9364</td>\n",
              "      <td>0.0207</td>\n",
              "      <td>...</td>\n",
              "      <td>0.286676</td>\n",
              "      <td>0.110363</td>\n",
              "      <td>0.123822</td>\n",
              "      <td>0.145357</td>\n",
              "      <td>0.333782</td>\n",
              "      <td>0.131875</td>\n",
              "      <td>score</td>\n",
              "      <td>0.001836</td>\n",
              "      <td>682.0</td>\n",
              "      <td>207.0</td>\n",
              "    </tr>\n",
              "    <tr>\n",
              "      <th>2504</th>\n",
              "      <td>2015</td>\n",
              "      <td>Brigham Young University</td>\n",
              "      <td>NaN</td>\n",
              "      <td>NaN</td>\n",
              "      <td>403.0</td>\n",
              "      <td>NaN</td>\n",
              "      <td>NaN</td>\n",
              "      <td>45.15</td>\n",
              "      <td>0.8320</td>\n",
              "      <td>0.0050</td>\n",
              "      <td>...</td>\n",
              "      <td>0.619696</td>\n",
              "      <td>0.075460</td>\n",
              "      <td>0.093375</td>\n",
              "      <td>0.096777</td>\n",
              "      <td>0.114692</td>\n",
              "      <td>-0.055239</td>\n",
              "      <td>raw</td>\n",
              "      <td>NaN</td>\n",
              "      <td>683.0</td>\n",
              "      <td>208.0</td>\n",
              "    </tr>\n",
              "    <tr>\n",
              "      <th>2505</th>\n",
              "      <td>2015</td>\n",
              "      <td>Brigham Young University</td>\n",
              "      <td>NaN</td>\n",
              "      <td>NaN</td>\n",
              "      <td>403.0</td>\n",
              "      <td>NaN</td>\n",
              "      <td>NaN</td>\n",
              "      <td>45.15</td>\n",
              "      <td>0.8320</td>\n",
              "      <td>0.0050</td>\n",
              "      <td>...</td>\n",
              "      <td>0.619696</td>\n",
              "      <td>0.075460</td>\n",
              "      <td>0.093375</td>\n",
              "      <td>0.096777</td>\n",
              "      <td>0.114692</td>\n",
              "      <td>0.262896</td>\n",
              "      <td>scaled</td>\n",
              "      <td>NaN</td>\n",
              "      <td>683.0</td>\n",
              "      <td>208.0</td>\n",
              "    </tr>\n",
              "    <tr>\n",
              "      <th>2506</th>\n",
              "      <td>2015</td>\n",
              "      <td>Brigham Young University</td>\n",
              "      <td>NaN</td>\n",
              "      <td>NaN</td>\n",
              "      <td>403.0</td>\n",
              "      <td>NaN</td>\n",
              "      <td>NaN</td>\n",
              "      <td>45.15</td>\n",
              "      <td>0.8320</td>\n",
              "      <td>0.0050</td>\n",
              "      <td>...</td>\n",
              "      <td>0.619696</td>\n",
              "      <td>0.075460</td>\n",
              "      <td>0.093375</td>\n",
              "      <td>0.096777</td>\n",
              "      <td>0.114692</td>\n",
              "      <td>0.149704</td>\n",
              "      <td>weight</td>\n",
              "      <td>NaN</td>\n",
              "      <td>683.0</td>\n",
              "      <td>208.0</td>\n",
              "    </tr>\n",
              "    <tr>\n",
              "      <th>2507</th>\n",
              "      <td>2015</td>\n",
              "      <td>Brigham Young University</td>\n",
              "      <td>NaN</td>\n",
              "      <td>NaN</td>\n",
              "      <td>403.0</td>\n",
              "      <td>NaN</td>\n",
              "      <td>NaN</td>\n",
              "      <td>45.15</td>\n",
              "      <td>0.8320</td>\n",
              "      <td>0.0050</td>\n",
              "      <td>...</td>\n",
              "      <td>0.619696</td>\n",
              "      <td>0.075460</td>\n",
              "      <td>0.093375</td>\n",
              "      <td>0.096777</td>\n",
              "      <td>0.114692</td>\n",
              "      <td>0.039357</td>\n",
              "      <td>score</td>\n",
              "      <td>0.000000</td>\n",
              "      <td>683.0</td>\n",
              "      <td>208.0</td>\n",
              "    </tr>\n",
              "  </tbody>\n",
              "</table>\n",
              "<p>2732 rows × 34 columns</p>\n",
              "</div>\n",
              "      <button class=\"colab-df-convert\" onclick=\"convertToInteractive('df-7fad8679-55db-4788-b850-ff66be4c623a')\"\n",
              "              title=\"Convert this dataframe to an interactive table.\"\n",
              "              style=\"display:none;\">\n",
              "        \n",
              "  <svg xmlns=\"http://www.w3.org/2000/svg\" height=\"24px\"viewBox=\"0 0 24 24\"\n",
              "       width=\"24px\">\n",
              "    <path d=\"M0 0h24v24H0V0z\" fill=\"none\"/>\n",
              "    <path d=\"M18.56 5.44l.94 2.06.94-2.06 2.06-.94-2.06-.94-.94-2.06-.94 2.06-2.06.94zm-11 1L8.5 8.5l.94-2.06 2.06-.94-2.06-.94L8.5 2.5l-.94 2.06-2.06.94zm10 10l.94 2.06.94-2.06 2.06-.94-2.06-.94-.94-2.06-.94 2.06-2.06.94z\"/><path d=\"M17.41 7.96l-1.37-1.37c-.4-.4-.92-.59-1.43-.59-.52 0-1.04.2-1.43.59L10.3 9.45l-7.72 7.72c-.78.78-.78 2.05 0 2.83L4 21.41c.39.39.9.59 1.41.59.51 0 1.02-.2 1.41-.59l7.78-7.78 2.81-2.81c.8-.78.8-2.07 0-2.86zM5.41 20L4 18.59l7.72-7.72 1.47 1.35L5.41 20z\"/>\n",
              "  </svg>\n",
              "      </button>\n",
              "      \n",
              "  <style>\n",
              "    .colab-df-container {\n",
              "      display:flex;\n",
              "      flex-wrap:wrap;\n",
              "      gap: 12px;\n",
              "    }\n",
              "\n",
              "    .colab-df-convert {\n",
              "      background-color: #E8F0FE;\n",
              "      border: none;\n",
              "      border-radius: 50%;\n",
              "      cursor: pointer;\n",
              "      display: none;\n",
              "      fill: #1967D2;\n",
              "      height: 32px;\n",
              "      padding: 0 0 0 0;\n",
              "      width: 32px;\n",
              "    }\n",
              "\n",
              "    .colab-df-convert:hover {\n",
              "      background-color: #E2EBFA;\n",
              "      box-shadow: 0px 1px 2px rgba(60, 64, 67, 0.3), 0px 1px 3px 1px rgba(60, 64, 67, 0.15);\n",
              "      fill: #174EA6;\n",
              "    }\n",
              "\n",
              "    [theme=dark] .colab-df-convert {\n",
              "      background-color: #3B4455;\n",
              "      fill: #D2E3FC;\n",
              "    }\n",
              "\n",
              "    [theme=dark] .colab-df-convert:hover {\n",
              "      background-color: #434B5C;\n",
              "      box-shadow: 0px 1px 3px 1px rgba(0, 0, 0, 0.15);\n",
              "      filter: drop-shadow(0px 1px 2px rgba(0, 0, 0, 0.3));\n",
              "      fill: #FFFFFF;\n",
              "    }\n",
              "  </style>\n",
              "\n",
              "      <script>\n",
              "        const buttonEl =\n",
              "          document.querySelector('#df-7fad8679-55db-4788-b850-ff66be4c623a button.colab-df-convert');\n",
              "        buttonEl.style.display =\n",
              "          google.colab.kernel.accessAllowed ? 'block' : 'none';\n",
              "\n",
              "        async function convertToInteractive(key) {\n",
              "          const element = document.querySelector('#df-7fad8679-55db-4788-b850-ff66be4c623a');\n",
              "          const dataTable =\n",
              "            await google.colab.kernel.invokeFunction('convertToInteractive',\n",
              "                                                     [key], {});\n",
              "          if (!dataTable) return;\n",
              "\n",
              "          const docLinkHtml = 'Like what you see? Visit the ' +\n",
              "            '<a target=\"_blank\" href=https://colab.research.google.com/notebooks/data_table.ipynb>data table notebook</a>'\n",
              "            + ' to learn more about interactive tables.';\n",
              "          element.innerHTML = '';\n",
              "          dataTable['output_type'] = 'display_data';\n",
              "          await google.colab.output.renderOutput(dataTable, element);\n",
              "          const docLink = document.createElement('div');\n",
              "          docLink.innerHTML = docLinkHtml;\n",
              "          element.appendChild(docLink);\n",
              "        }\n",
              "      </script>\n",
              "    </div>\n",
              "  </div>\n",
              "  "
            ]
          },
          "metadata": {},
          "execution_count": 214
        }
      ]
    },
    {
      "cell_type": "markdown",
      "source": [
        "# Export"
      ],
      "metadata": {
        "id": "6zYw2IK9lNoW"
      }
    },
    {
      "cell_type": "code",
      "source": [
        "out_path = '/content/drive/MyDrive/Spring 2023/Data Visualization/Project/diversity_df_final.csv'\n",
        "df.to_csv(out_path,index=0)"
      ],
      "metadata": {
        "id": "JEqJrMo5_TQu"
      },
      "execution_count": 215,
      "outputs": []
    }
  ]
}